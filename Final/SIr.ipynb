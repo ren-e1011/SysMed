{
 "cells": [
  {
   "cell_type": "code",
   "execution_count": 1,
   "metadata": {},
   "outputs": [],
   "source": [
    "import numpy as np\n",
    "import pandas as pd\n",
    "import matplotlib.pyplot as plt\n",
    "from scipy.integrate import odeint"
   ]
  },
  {
   "cell_type": "code",
   "execution_count": 2,
   "metadata": {},
   "outputs": [],
   "source": [
    "pd.set_option('display.max_rows', None)"
   ]
  },
  {
   "cell_type": "code",
   "execution_count": 3,
   "metadata": {},
   "outputs": [],
   "source": [
    "import numpy as np"
   ]
  },
  {
   "cell_type": "code",
   "execution_count": 5,
   "metadata": {},
   "outputs": [
    {
     "data": {
      "text/plain": [
       "3.1491666666666673"
      ]
     },
     "execution_count": 5,
     "metadata": {},
     "output_type": "execute_result"
    }
   ],
   "source": [
    "# Rt May 2-14\n",
    "np.mean([3.30,2.96,2.57,2.67,3.41,3.44,2.81,3.16,3.21,2.48,3.36,4.42])"
   ]
  },
  {
   "cell_type": "code",
   "execution_count": 22,
   "metadata": {},
   "outputs": [],
   "source": [
    "# deaths; recoveries; active cases \n",
    "# 2020-05-07;973;18440;35390;;;35,390;+2.81%;973;+2.64%\n",
    "# https://en.wikipedia.org/wiki/COVID-19_pandemic_in_Texas\n",
    "_deaths = 973\n",
    "_recovered = 18440\n",
    "_active = 35390\n",
    "\n",
    "# R0 = beta/gamma\n",
    "# wiki - mea\n",
    "# R_0 = 2.8\n",
    "R_0 = 3.15\n",
    "\n",
    "# rt live\n",
    "# R_0 = 1.01\n",
    "\n",
    "# gamma = 1/7\n",
    "gamma = 1/14\n",
    "# rt live\n",
    "# gamma_may = 1/15\n",
    "\n",
    "beta_open = R_0 * gamma\n",
    "\n",
    "n_TX = 29E6\n",
    "\n",
    "I_0 = _active/n_TX\n",
    "\n",
    "r_0 = (_recovered + _deaths)/n_TX\n",
    "\n",
    "S_0 = 1.0 - (I_0 + r_0)\n",
    "\n"
   ]
  },
  {
   "cell_type": "code",
   "execution_count": 42,
   "metadata": {},
   "outputs": [
    {
     "data": {
      "text/plain": [
       "0.22499999999999998"
      ]
     },
     "execution_count": 42,
     "metadata": {},
     "output_type": "execute_result"
    }
   ],
   "source": [
    "beta_open"
   ]
  },
  {
   "cell_type": "code",
   "execution_count": 23,
   "metadata": {},
   "outputs": [],
   "source": [
    "'''\n",
    "Simple SIr simulation\n",
    "Recall that:\n",
    "                dS/dt = -beta*S*I\n",
    "                dI/dt = beta*S*I - gamma*I\n",
    "                dR/dt = gamma*I\n",
    "\n",
    "Here, we call the solution y(t), where y(t) is a vector [S(t),I(t),R(t)].\n",
    "The solution tells us what is the state of each group at each time point.\n",
    "\n",
    "In order to run a simulation, we need to define our ordinary differential equations (ODE) by a function.\n",
    "The input to this function is the state of the three groups in a single time point - y, and compute how they change  - dy\n",
    "'''\n",
    "\n",
    "def dSdt(S,I,b,g=gamma):\n",
    "    return -b*S*I\n",
    "\n",
    "def dIdt(S,I,b,g=gamma):\n",
    "    return b*S*I - g*I\n",
    "\n",
    "def dRdt(I,g=gamma):\n",
    "    return g*I\n",
    "\n",
    "def R_0(beta,gamma=gamma):\n",
    "    return beta/gamma\n",
    "    "
   ]
  },
  {
   "cell_type": "code",
   "execution_count": 24,
   "metadata": {},
   "outputs": [],
   "source": [
    "# def SIr(y,t,b=beta):\n",
    "def SIr(y,t,b):    \n",
    "        # define the simulation parameters within the function\n",
    "        [S,I,R] = y \n",
    "#         print(t)\n",
    "#         print(t, y)\n",
    "#         if I > .028:\n",
    "#             print('t',t)\n",
    "#             print('[S, I, R]',y)\n",
    "# #             print('S',S)\n",
    "# #             print('I',I)\n",
    "# #             print('R',R)\n",
    "#             print('---')\n",
    "        dy      = np.empty(3)  \n",
    "        \n",
    "        dy[0] = dSdt(S,I,b)\n",
    "        dy[1] = dIdt(S,I,b) \n",
    "        dy[2] = dRdt(I)\n",
    "        \n",
    "        return dy\n",
    "    "
   ]
  },
  {
   "cell_type": "markdown",
   "metadata": {},
   "source": [
    "----------------------------------------------------------------------"
   ]
  },
  {
   "cell_type": "code",
   "execution_count": 10,
   "metadata": {},
   "outputs": [
    {
     "data": {
      "text/plain": [
       "0.001220344827586207"
      ]
     },
     "execution_count": 10,
     "metadata": {},
     "output_type": "execute_result"
    }
   ],
   "source": [
    "I_0"
   ]
  },
  {
   "cell_type": "code",
   "execution_count": 12,
   "metadata": {},
   "outputs": [
    {
     "data": {
      "text/plain": [
       "0.0006694137931034483"
      ]
     },
     "execution_count": 12,
     "metadata": {},
     "output_type": "execute_result"
    }
   ],
   "source": [
    "r_0"
   ]
  },
  {
   "cell_type": "code",
   "execution_count": 11,
   "metadata": {},
   "outputs": [
    {
     "data": {
      "text/plain": [
       "0.9981102413793104"
      ]
     },
     "execution_count": 11,
     "metadata": {},
     "output_type": "execute_result"
    }
   ],
   "source": [
    "S_0"
   ]
  },
  {
   "cell_type": "code",
   "execution_count": 43,
   "metadata": {},
   "outputs": [
    {
     "data": {
      "text/plain": [
       "0.2475"
      ]
     },
     "execution_count": 43,
     "metadata": {},
     "output_type": "execute_result"
    }
   ],
   "source": [
    "beta_open * 1.1"
   ]
  },
  {
   "cell_type": "code",
   "execution_count": 101,
   "metadata": {},
   "outputs": [],
   "source": [
    "n_days = 150\n",
    "# Initial conditions\n",
    "sol_open = odeint(SIr,[S_0,I_0,r_0],np.arange(0,n_days),args = (beta_open,))\n",
    "sir_df_open = pd.DataFrame(sol_open,columns=['S','I','R'])"
   ]
  },
  {
   "cell_type": "code",
   "execution_count": 227,
   "metadata": {},
   "outputs": [
    {
     "data": {
      "text/plain": [
       "Text(0.5, 1.0, 'Simple SIr predicting Tx COVID-19 cases following May 1 reopening')"
      ]
     },
     "execution_count": 227,
     "metadata": {},
     "output_type": "execute_result"
    },
    {
     "data": {
      "image/png": "[encoded data removed]",
      "text/plain": [
       "<Figure size 432x288 with 1 Axes>"
      ]
     },
     "metadata": {
      "needs_background": "light"
     },
     "output_type": "display_data"
    }
   ],
   "source": [
    "sir_df_open.plot()\n",
    "plt.xlabel('Time (Days)')\n",
    "plt.ylabel('Infection curves')\n",
    "# plt.axvline(x=30,color='red',linewidth='0.75')\n",
    "# plt.axvline(x=30+32,color='red',linewidth='0.75')\n",
    "plt.title('Simple SIr predicting Tx COVID-19 cases following May 1 reopening')"
   ]
  },
  {
   "cell_type": "code",
   "execution_count": 105,
   "metadata": {},
   "outputs": [
    {
     "data": {
      "text/plain": [
       "Text(0.5, 1.0, 'Simple SIr predicting Tx COVID-19 cases May 31-July 2, without mass protests')"
      ]
     },
     "execution_count": 105,
     "metadata": {},
     "output_type": "execute_result"
    },
    {
     "data": {
      "image/png": "[encoded data removed]",
      "text/plain": [
       "<Figure size 432x288 with 1 Axes>"
      ]
     },
     "metadata": {
      "needs_background": "light"
     },
     "output_type": "display_data"
    }
   ],
   "source": [
    "sir_df_open.iloc[30:30+32].plot()\n",
    "plt.xlabel('Time (Days)')\n",
    "plt.ylabel('Infection curves')\n",
    "plt.title('Simple SIr predicting Tx COVID-19 cases May 31-July 2, without mass protests')"
   ]
  },
  {
   "cell_type": "code",
   "execution_count": 163,
   "metadata": {},
   "outputs": [
    {
     "data": {
      "text/plain": [
       "0.2925"
      ]
     },
     "execution_count": 163,
     "metadata": {},
     "output_type": "execute_result"
    }
   ],
   "source": [
    "beta_open*1.3"
   ]
  },
  {
   "cell_type": "code",
   "execution_count": 164,
   "metadata": {},
   "outputs": [
    {
     "data": {
      "text/plain": [
       "49"
      ]
     },
     "execution_count": 164,
     "metadata": {},
     "output_type": "execute_result"
    }
   ],
   "source": [
    "np.argmax(sir_df_open.I)"
   ]
  },
  {
   "cell_type": "code",
   "execution_count": 79,
   "metadata": {},
   "outputs": [
    {
     "data": {
      "text/plain": [
       "0.3181632072146415"
      ]
     },
     "execution_count": 79,
     "metadata": {},
     "output_type": "execute_result"
    }
   ],
   "source": [
    "max(sir_df_open.I)"
   ]
  },
  {
   "cell_type": "code",
   "execution_count": 129,
   "metadata": {},
   "outputs": [
    {
     "data": {
      "text/plain": [
       "9226733.009224603"
      ]
     },
     "execution_count": 129,
     "metadata": {},
     "output_type": "execute_result"
    }
   ],
   "source": [
    "max(sir_df_open.I)*29E6"
   ]
  },
  {
   "cell_type": "code",
   "execution_count": 31,
   "metadata": {},
   "outputs": [
    {
     "data": {
      "text/plain": [
       "0.9496975950930052"
      ]
     },
     "execution_count": 31,
     "metadata": {},
     "output_type": "execute_result"
    }
   ],
   "source": [
    "sir_df_open.R.iloc[-1]"
   ]
  },
  {
   "cell_type": "code",
   "execution_count": 40,
   "metadata": {},
   "outputs": [
    {
     "data": {
      "text/plain": [
       "0.33749999999999997"
      ]
     },
     "execution_count": 40,
     "metadata": {},
     "output_type": "execute_result"
    }
   ],
   "source": [
    "beta_open * 1.5"
   ]
  },
  {
   "cell_type": "code",
   "execution_count": 44,
   "metadata": {},
   "outputs": [],
   "source": [
    "daysPreMG = 29 "
   ]
  },
  {
   "cell_type": "code",
   "execution_count": 209,
   "metadata": {},
   "outputs": [],
   "source": [
    "# day 31. initial conditions at the 30th day (0-based ix) \n",
    "sol_mg = odeint(SIr, [sir_df_open.S.iloc[daysPreMG], sir_df_open.I.iloc[daysPreMG], sir_df_open.R.iloc[daysPreMG]],np.arange(daysPreMG, daysPreMG+32), args=(beta_open*1.29,))"
   ]
  },
  {
   "cell_type": "code",
   "execution_count": 210,
   "metadata": {},
   "outputs": [],
   "source": [
    "sir_df_mg = pd.DataFrame(sol_mg,columns=['S','I','R'])"
   ]
  },
  {
   "cell_type": "code",
   "execution_count": 211,
   "metadata": {},
   "outputs": [],
   "source": [
    "sol_close = odeint(SIr, [sir_df_mg.S.iloc[-1], sir_df_mg.I.iloc[-1], sir_df_mg.R.iloc[-1]],np.arange(daysPreMG+32,n_days), args=(beta_open,))"
   ]
  },
  {
   "cell_type": "code",
   "execution_count": 212,
   "metadata": {},
   "outputs": [],
   "source": [
    "sir_df_close = pd.DataFrame(sol_close,columns=['S','I','R'])"
   ]
  },
  {
   "cell_type": "code",
   "execution_count": 213,
   "metadata": {},
   "outputs": [
    {
     "data": {
      "text/plain": [
       "Text(0.5, 1.0, 'Simple SIr predicting Tx COVID-19 during May 31-July 2 protests')"
      ]
     },
     "execution_count": 213,
     "metadata": {},
     "output_type": "execute_result"
    },
    {
     "data": {
      "image/png": "[encoded data removed]",
      "text/plain": [
       "<Figure size 432x288 with 1 Axes>"
      ]
     },
     "metadata": {
      "needs_background": "light"
     },
     "output_type": "display_data"
    }
   ],
   "source": [
    "sir_df_mg.plot()\n",
    "plt.xlabel('Time (Days)')\n",
    "plt.ylabel('Infection curves')\n",
    "plt.title('Simple SIr predicting Tx COVID-19 during May 31-July 2 protests')"
   ]
  },
  {
   "cell_type": "code",
   "execution_count": 214,
   "metadata": {},
   "outputs": [
    {
     "data": {
      "text/plain": [
       "16"
      ]
     },
     "execution_count": 214,
     "metadata": {},
     "output_type": "execute_result"
    }
   ],
   "source": [
    "np.argmax(sir_df_mg.I)"
   ]
  },
  {
   "cell_type": "code",
   "execution_count": 215,
   "metadata": {},
   "outputs": [
    {
     "data": {
      "text/plain": [
       "0.29024999999999995"
      ]
     },
     "execution_count": 215,
     "metadata": {},
     "output_type": "execute_result"
    }
   ],
   "source": [
    "beta_open*1.29"
   ]
  },
  {
   "cell_type": "code",
   "execution_count": 216,
   "metadata": {},
   "outputs": [
    {
     "data": {
      "text/plain": [
       "0.39731752054682834"
      ]
     },
     "execution_count": 216,
     "metadata": {},
     "output_type": "execute_result"
    }
   ],
   "source": [
    "max(sir_df_mg.I)"
   ]
  },
  {
   "cell_type": "code",
   "execution_count": 217,
   "metadata": {},
   "outputs": [
    {
     "data": {
      "text/plain": [
       "0.9737507350889599"
      ]
     },
     "execution_count": 217,
     "metadata": {},
     "output_type": "execute_result"
    }
   ],
   "source": [
    "sir_df_close.R.iloc[-1]"
   ]
  },
  {
   "cell_type": "code",
   "execution_count": 218,
   "metadata": {},
   "outputs": [],
   "source": [
    "df_open_mg_close = pd.concat([sir_df_open[:daysPreMG],sir_df_mg,sir_df_close[1:]])"
   ]
  },
  {
   "cell_type": "code",
   "execution_count": 219,
   "metadata": {
    "collapsed": true,
    "jupyter": {
     "outputs_hidden": true
    }
   },
   "outputs": [
    {
     "data": {
      "text/html": [
       "<div>\n",
       "<style scoped>\n",
       "    .dataframe tbody tr th:only-of-type {\n",
       "        vertical-align: middle;\n",
       "    }\n",
       "\n",
       "    .dataframe tbody tr th {\n",
       "        vertical-align: top;\n",
       "    }\n",
       "\n",
       "    .dataframe thead th {\n",
       "        text-align: right;\n",
       "    }\n",
       "</style>\n",
       "<table border=\"1\" class=\"dataframe\">\n",
       "  <thead>\n",
       "    <tr style=\"text-align: right;\">\n",
       "      <th></th>\n",
       "      <th>S</th>\n",
       "      <th>I</th>\n",
       "      <th>R</th>\n",
       "    </tr>\n",
       "  </thead>\n",
       "  <tbody>\n",
       "    <tr>\n",
       "      <th>0</th>\n",
       "      <td>0.998110</td>\n",
       "      <td>0.001220</td>\n",
       "      <td>0.000669</td>\n",
       "    </tr>\n",
       "    <tr>\n",
       "      <th>1</th>\n",
       "      <td>0.997814</td>\n",
       "      <td>0.001422</td>\n",
       "      <td>0.000764</td>\n",
       "    </tr>\n",
       "    <tr>\n",
       "      <th>2</th>\n",
       "      <td>0.997469</td>\n",
       "      <td>0.001657</td>\n",
       "      <td>0.000873</td>\n",
       "    </tr>\n",
       "    <tr>\n",
       "      <th>3</th>\n",
       "      <td>0.997067</td>\n",
       "      <td>0.001931</td>\n",
       "      <td>0.001001</td>\n",
       "    </tr>\n",
       "    <tr>\n",
       "      <th>4</th>\n",
       "      <td>0.996599</td>\n",
       "      <td>0.002250</td>\n",
       "      <td>0.001150</td>\n",
       "    </tr>\n",
       "    <tr>\n",
       "      <th>5</th>\n",
       "      <td>0.996054</td>\n",
       "      <td>0.002622</td>\n",
       "      <td>0.001324</td>\n",
       "    </tr>\n",
       "    <tr>\n",
       "      <th>6</th>\n",
       "      <td>0.995420</td>\n",
       "      <td>0.003054</td>\n",
       "      <td>0.001526</td>\n",
       "    </tr>\n",
       "    <tr>\n",
       "      <th>7</th>\n",
       "      <td>0.994681</td>\n",
       "      <td>0.003557</td>\n",
       "      <td>0.001762</td>\n",
       "    </tr>\n",
       "    <tr>\n",
       "      <th>8</th>\n",
       "      <td>0.993821</td>\n",
       "      <td>0.004142</td>\n",
       "      <td>0.002036</td>\n",
       "    </tr>\n",
       "    <tr>\n",
       "      <th>9</th>\n",
       "      <td>0.992821</td>\n",
       "      <td>0.004823</td>\n",
       "      <td>0.002356</td>\n",
       "    </tr>\n",
       "    <tr>\n",
       "      <th>10</th>\n",
       "      <td>0.991659</td>\n",
       "      <td>0.005613</td>\n",
       "      <td>0.002728</td>\n",
       "    </tr>\n",
       "    <tr>\n",
       "      <th>11</th>\n",
       "      <td>0.990307</td>\n",
       "      <td>0.006532</td>\n",
       "      <td>0.003161</td>\n",
       "    </tr>\n",
       "    <tr>\n",
       "      <th>12</th>\n",
       "      <td>0.988737</td>\n",
       "      <td>0.007598</td>\n",
       "      <td>0.003665</td>\n",
       "    </tr>\n",
       "    <tr>\n",
       "      <th>13</th>\n",
       "      <td>0.986914</td>\n",
       "      <td>0.008835</td>\n",
       "      <td>0.004250</td>\n",
       "    </tr>\n",
       "    <tr>\n",
       "      <th>14</th>\n",
       "      <td>0.984800</td>\n",
       "      <td>0.010269</td>\n",
       "      <td>0.004932</td>\n",
       "    </tr>\n",
       "    <tr>\n",
       "      <th>15</th>\n",
       "      <td>0.982348</td>\n",
       "      <td>0.011929</td>\n",
       "      <td>0.005723</td>\n",
       "    </tr>\n",
       "    <tr>\n",
       "      <th>16</th>\n",
       "      <td>0.979508</td>\n",
       "      <td>0.013850</td>\n",
       "      <td>0.006642</td>\n",
       "    </tr>\n",
       "    <tr>\n",
       "      <th>17</th>\n",
       "      <td>0.976223</td>\n",
       "      <td>0.016069</td>\n",
       "      <td>0.007709</td>\n",
       "    </tr>\n",
       "    <tr>\n",
       "      <th>18</th>\n",
       "      <td>0.972426</td>\n",
       "      <td>0.018629</td>\n",
       "      <td>0.008946</td>\n",
       "    </tr>\n",
       "    <tr>\n",
       "      <th>19</th>\n",
       "      <td>0.968045</td>\n",
       "      <td>0.021576</td>\n",
       "      <td>0.010379</td>\n",
       "    </tr>\n",
       "    <tr>\n",
       "      <th>20</th>\n",
       "      <td>0.962998</td>\n",
       "      <td>0.024963</td>\n",
       "      <td>0.012038</td>\n",
       "    </tr>\n",
       "    <tr>\n",
       "      <th>21</th>\n",
       "      <td>0.957196</td>\n",
       "      <td>0.028847</td>\n",
       "      <td>0.013957</td>\n",
       "    </tr>\n",
       "    <tr>\n",
       "      <th>22</th>\n",
       "      <td>0.950539</td>\n",
       "      <td>0.033289</td>\n",
       "      <td>0.016173</td>\n",
       "    </tr>\n",
       "    <tr>\n",
       "      <th>23</th>\n",
       "      <td>0.942920</td>\n",
       "      <td>0.038353</td>\n",
       "      <td>0.018727</td>\n",
       "    </tr>\n",
       "    <tr>\n",
       "      <th>24</th>\n",
       "      <td>0.934226</td>\n",
       "      <td>0.044106</td>\n",
       "      <td>0.021668</td>\n",
       "    </tr>\n",
       "    <tr>\n",
       "      <th>25</th>\n",
       "      <td>0.924337</td>\n",
       "      <td>0.050617</td>\n",
       "      <td>0.025046</td>\n",
       "    </tr>\n",
       "    <tr>\n",
       "      <th>26</th>\n",
       "      <td>0.913131</td>\n",
       "      <td>0.057951</td>\n",
       "      <td>0.028919</td>\n",
       "    </tr>\n",
       "    <tr>\n",
       "      <th>27</th>\n",
       "      <td>0.900484</td>\n",
       "      <td>0.066170</td>\n",
       "      <td>0.033346</td>\n",
       "    </tr>\n",
       "    <tr>\n",
       "      <th>28</th>\n",
       "      <td>0.886279</td>\n",
       "      <td>0.075327</td>\n",
       "      <td>0.038394</td>\n",
       "    </tr>\n",
       "    <tr>\n",
       "      <th>29</th>\n",
       "      <td>0.870408</td>\n",
       "      <td>0.085462</td>\n",
       "      <td>0.044130</td>\n",
       "    </tr>\n",
       "    <tr>\n",
       "      <th>0</th>\n",
       "      <td>0.852778</td>\n",
       "      <td>0.096595</td>\n",
       "      <td>0.050626</td>\n",
       "    </tr>\n",
       "    <tr>\n",
       "      <th>1</th>\n",
       "      <td>0.827063</td>\n",
       "      <td>0.114776</td>\n",
       "      <td>0.058161</td>\n",
       "    </tr>\n",
       "    <tr>\n",
       "      <th>2</th>\n",
       "      <td>0.797631</td>\n",
       "      <td>0.135291</td>\n",
       "      <td>0.067079</td>\n",
       "    </tr>\n",
       "    <tr>\n",
       "      <th>3</th>\n",
       "      <td>0.764429</td>\n",
       "      <td>0.158029</td>\n",
       "      <td>0.077542</td>\n",
       "    </tr>\n",
       "    <tr>\n",
       "      <th>4</th>\n",
       "      <td>0.727577</td>\n",
       "      <td>0.182722</td>\n",
       "      <td>0.089701</td>\n",
       "    </tr>\n",
       "    <tr>\n",
       "      <th>5</th>\n",
       "      <td>0.687397</td>\n",
       "      <td>0.208922</td>\n",
       "      <td>0.103681</td>\n",
       "    </tr>\n",
       "    <tr>\n",
       "      <th>6</th>\n",
       "      <td>0.644423</td>\n",
       "      <td>0.236009</td>\n",
       "      <td>0.119568</td>\n",
       "    </tr>\n",
       "    <tr>\n",
       "      <th>7</th>\n",
       "      <td>0.599381</td>\n",
       "      <td>0.263220</td>\n",
       "      <td>0.137399</td>\n",
       "    </tr>\n",
       "    <tr>\n",
       "      <th>8</th>\n",
       "      <td>0.553149</td>\n",
       "      <td>0.289698</td>\n",
       "      <td>0.157153</td>\n",
       "    </tr>\n",
       "    <tr>\n",
       "      <th>9</th>\n",
       "      <td>0.506682</td>\n",
       "      <td>0.314572</td>\n",
       "      <td>0.178747</td>\n",
       "    </tr>\n",
       "    <tr>\n",
       "      <th>10</th>\n",
       "      <td>0.460933</td>\n",
       "      <td>0.337033</td>\n",
       "      <td>0.202035</td>\n",
       "    </tr>\n",
       "    <tr>\n",
       "      <th>11</th>\n",
       "      <td>0.416770</td>\n",
       "      <td>0.356409</td>\n",
       "      <td>0.226821</td>\n",
       "    </tr>\n",
       "    <tr>\n",
       "      <th>12</th>\n",
       "      <td>0.374916</td>\n",
       "      <td>0.372219</td>\n",
       "      <td>0.252865</td>\n",
       "    </tr>\n",
       "    <tr>\n",
       "      <th>13</th>\n",
       "      <td>0.335907</td>\n",
       "      <td>0.384190</td>\n",
       "      <td>0.279903</td>\n",
       "    </tr>\n",
       "    <tr>\n",
       "      <th>14</th>\n",
       "      <td>0.300082</td>\n",
       "      <td>0.392261</td>\n",
       "      <td>0.307657</td>\n",
       "    </tr>\n",
       "    <tr>\n",
       "      <th>15</th>\n",
       "      <td>0.267600</td>\n",
       "      <td>0.396550</td>\n",
       "      <td>0.335850</td>\n",
       "    </tr>\n",
       "    <tr>\n",
       "      <th>16</th>\n",
       "      <td>0.238460</td>\n",
       "      <td>0.397318</td>\n",
       "      <td>0.364223</td>\n",
       "    </tr>\n",
       "    <tr>\n",
       "      <th>17</th>\n",
       "      <td>0.212545</td>\n",
       "      <td>0.394920</td>\n",
       "      <td>0.392535</td>\n",
       "    </tr>\n",
       "    <tr>\n",
       "      <th>18</th>\n",
       "      <td>0.189657</td>\n",
       "      <td>0.389769</td>\n",
       "      <td>0.420574</td>\n",
       "    </tr>\n",
       "    <tr>\n",
       "      <th>19</th>\n",
       "      <td>0.169545</td>\n",
       "      <td>0.382294</td>\n",
       "      <td>0.448160</td>\n",
       "    </tr>\n",
       "    <tr>\n",
       "      <th>20</th>\n",
       "      <td>0.151939</td>\n",
       "      <td>0.372919</td>\n",
       "      <td>0.475142</td>\n",
       "    </tr>\n",
       "    <tr>\n",
       "      <th>21</th>\n",
       "      <td>0.136563</td>\n",
       "      <td>0.362038</td>\n",
       "      <td>0.501399</td>\n",
       "    </tr>\n",
       "    <tr>\n",
       "      <th>22</th>\n",
       "      <td>0.123153</td>\n",
       "      <td>0.350012</td>\n",
       "      <td>0.526835</td>\n",
       "    </tr>\n",
       "    <tr>\n",
       "      <th>23</th>\n",
       "      <td>0.111462</td>\n",
       "      <td>0.337157</td>\n",
       "      <td>0.551381</td>\n",
       "    </tr>\n",
       "    <tr>\n",
       "      <th>24</th>\n",
       "      <td>0.101267</td>\n",
       "      <td>0.323746</td>\n",
       "      <td>0.574987</td>\n",
       "    </tr>\n",
       "    <tr>\n",
       "      <th>25</th>\n",
       "      <td>0.092368</td>\n",
       "      <td>0.310009</td>\n",
       "      <td>0.597623</td>\n",
       "    </tr>\n",
       "    <tr>\n",
       "      <th>26</th>\n",
       "      <td>0.084590</td>\n",
       "      <td>0.296139</td>\n",
       "      <td>0.619271</td>\n",
       "    </tr>\n",
       "    <tr>\n",
       "      <th>27</th>\n",
       "      <td>0.077779</td>\n",
       "      <td>0.282292</td>\n",
       "      <td>0.639929</td>\n",
       "    </tr>\n",
       "    <tr>\n",
       "      <th>28</th>\n",
       "      <td>0.071803</td>\n",
       "      <td>0.268595</td>\n",
       "      <td>0.659602</td>\n",
       "    </tr>\n",
       "    <tr>\n",
       "      <th>29</th>\n",
       "      <td>0.066548</td>\n",
       "      <td>0.255146</td>\n",
       "      <td>0.678305</td>\n",
       "    </tr>\n",
       "    <tr>\n",
       "      <th>30</th>\n",
       "      <td>0.061916</td>\n",
       "      <td>0.242024</td>\n",
       "      <td>0.696059</td>\n",
       "    </tr>\n",
       "    <tr>\n",
       "      <th>31</th>\n",
       "      <td>0.057823</td>\n",
       "      <td>0.229287</td>\n",
       "      <td>0.712889</td>\n",
       "    </tr>\n",
       "    <tr>\n",
       "      <th>1</th>\n",
       "      <td>0.054997</td>\n",
       "      <td>0.216206</td>\n",
       "      <td>0.728796</td>\n",
       "    </tr>\n",
       "    <tr>\n",
       "      <th>2</th>\n",
       "      <td>0.052460</td>\n",
       "      <td>0.203749</td>\n",
       "      <td>0.743791</td>\n",
       "    </tr>\n",
       "    <tr>\n",
       "      <th>3</th>\n",
       "      <td>0.050177</td>\n",
       "      <td>0.191905</td>\n",
       "      <td>0.757918</td>\n",
       "    </tr>\n",
       "    <tr>\n",
       "      <th>4</th>\n",
       "      <td>0.048118</td>\n",
       "      <td>0.180662</td>\n",
       "      <td>0.771220</td>\n",
       "    </tr>\n",
       "    <tr>\n",
       "      <th>5</th>\n",
       "      <td>0.046257</td>\n",
       "      <td>0.170002</td>\n",
       "      <td>0.783741</td>\n",
       "    </tr>\n",
       "    <tr>\n",
       "      <th>6</th>\n",
       "      <td>0.044572</td>\n",
       "      <td>0.159908</td>\n",
       "      <td>0.795520</td>\n",
       "    </tr>\n",
       "    <tr>\n",
       "      <th>7</th>\n",
       "      <td>0.043044</td>\n",
       "      <td>0.150359</td>\n",
       "      <td>0.806598</td>\n",
       "    </tr>\n",
       "    <tr>\n",
       "      <th>8</th>\n",
       "      <td>0.041654</td>\n",
       "      <td>0.141334</td>\n",
       "      <td>0.817012</td>\n",
       "    </tr>\n",
       "    <tr>\n",
       "      <th>9</th>\n",
       "      <td>0.040390</td>\n",
       "      <td>0.132810</td>\n",
       "      <td>0.826800</td>\n",
       "    </tr>\n",
       "    <tr>\n",
       "      <th>10</th>\n",
       "      <td>0.039236</td>\n",
       "      <td>0.124767</td>\n",
       "      <td>0.835996</td>\n",
       "    </tr>\n",
       "    <tr>\n",
       "      <th>11</th>\n",
       "      <td>0.038183</td>\n",
       "      <td>0.117182</td>\n",
       "      <td>0.844635</td>\n",
       "    </tr>\n",
       "    <tr>\n",
       "      <th>12</th>\n",
       "      <td>0.037220</td>\n",
       "      <td>0.110033</td>\n",
       "      <td>0.852747</td>\n",
       "    </tr>\n",
       "    <tr>\n",
       "      <th>13</th>\n",
       "      <td>0.036337</td>\n",
       "      <td>0.103299</td>\n",
       "      <td>0.860364</td>\n",
       "    </tr>\n",
       "    <tr>\n",
       "      <th>14</th>\n",
       "      <td>0.035528</td>\n",
       "      <td>0.096958</td>\n",
       "      <td>0.867513</td>\n",
       "    </tr>\n",
       "    <tr>\n",
       "      <th>15</th>\n",
       "      <td>0.034785</td>\n",
       "      <td>0.090991</td>\n",
       "      <td>0.874224</td>\n",
       "    </tr>\n",
       "    <tr>\n",
       "      <th>16</th>\n",
       "      <td>0.034102</td>\n",
       "      <td>0.085377</td>\n",
       "      <td>0.880521</td>\n",
       "    </tr>\n",
       "    <tr>\n",
       "      <th>17</th>\n",
       "      <td>0.033473</td>\n",
       "      <td>0.080098</td>\n",
       "      <td>0.886428</td>\n",
       "    </tr>\n",
       "    <tr>\n",
       "      <th>18</th>\n",
       "      <td>0.032894</td>\n",
       "      <td>0.075135</td>\n",
       "      <td>0.891971</td>\n",
       "    </tr>\n",
       "    <tr>\n",
       "      <th>19</th>\n",
       "      <td>0.032360</td>\n",
       "      <td>0.070471</td>\n",
       "      <td>0.897169</td>\n",
       "    </tr>\n",
       "    <tr>\n",
       "      <th>20</th>\n",
       "      <td>0.031866</td>\n",
       "      <td>0.066089</td>\n",
       "      <td>0.902045</td>\n",
       "    </tr>\n",
       "    <tr>\n",
       "      <th>21</th>\n",
       "      <td>0.031411</td>\n",
       "      <td>0.061972</td>\n",
       "      <td>0.906617</td>\n",
       "    </tr>\n",
       "    <tr>\n",
       "      <th>22</th>\n",
       "      <td>0.030989</td>\n",
       "      <td>0.058107</td>\n",
       "      <td>0.910904</td>\n",
       "    </tr>\n",
       "    <tr>\n",
       "      <th>23</th>\n",
       "      <td>0.030600</td>\n",
       "      <td>0.054477</td>\n",
       "      <td>0.914923</td>\n",
       "    </tr>\n",
       "    <tr>\n",
       "      <th>24</th>\n",
       "      <td>0.030239</td>\n",
       "      <td>0.051070</td>\n",
       "      <td>0.918692</td>\n",
       "    </tr>\n",
       "    <tr>\n",
       "      <th>25</th>\n",
       "      <td>0.029904</td>\n",
       "      <td>0.047872</td>\n",
       "      <td>0.922224</td>\n",
       "    </tr>\n",
       "    <tr>\n",
       "      <th>26</th>\n",
       "      <td>0.029594</td>\n",
       "      <td>0.044871</td>\n",
       "      <td>0.925535</td>\n",
       "    </tr>\n",
       "    <tr>\n",
       "      <th>27</th>\n",
       "      <td>0.029306</td>\n",
       "      <td>0.042056</td>\n",
       "      <td>0.928639</td>\n",
       "    </tr>\n",
       "    <tr>\n",
       "      <th>28</th>\n",
       "      <td>0.029038</td>\n",
       "      <td>0.039414</td>\n",
       "      <td>0.931547</td>\n",
       "    </tr>\n",
       "    <tr>\n",
       "      <th>29</th>\n",
       "      <td>0.028790</td>\n",
       "      <td>0.036937</td>\n",
       "      <td>0.934273</td>\n",
       "    </tr>\n",
       "    <tr>\n",
       "      <th>30</th>\n",
       "      <td>0.028559</td>\n",
       "      <td>0.034613</td>\n",
       "      <td>0.936828</td>\n",
       "    </tr>\n",
       "    <tr>\n",
       "      <th>31</th>\n",
       "      <td>0.028345</td>\n",
       "      <td>0.032434</td>\n",
       "      <td>0.939221</td>\n",
       "    </tr>\n",
       "    <tr>\n",
       "      <th>32</th>\n",
       "      <td>0.028145</td>\n",
       "      <td>0.030390</td>\n",
       "      <td>0.941464</td>\n",
       "    </tr>\n",
       "    <tr>\n",
       "      <th>33</th>\n",
       "      <td>0.027960</td>\n",
       "      <td>0.028475</td>\n",
       "      <td>0.943566</td>\n",
       "    </tr>\n",
       "    <tr>\n",
       "      <th>34</th>\n",
       "      <td>0.027787</td>\n",
       "      <td>0.026678</td>\n",
       "      <td>0.945535</td>\n",
       "    </tr>\n",
       "    <tr>\n",
       "      <th>35</th>\n",
       "      <td>0.027626</td>\n",
       "      <td>0.024995</td>\n",
       "      <td>0.947380</td>\n",
       "    </tr>\n",
       "    <tr>\n",
       "      <th>36</th>\n",
       "      <td>0.027476</td>\n",
       "      <td>0.023416</td>\n",
       "      <td>0.949108</td>\n",
       "    </tr>\n",
       "    <tr>\n",
       "      <th>37</th>\n",
       "      <td>0.027336</td>\n",
       "      <td>0.021937</td>\n",
       "      <td>0.950727</td>\n",
       "    </tr>\n",
       "    <tr>\n",
       "      <th>38</th>\n",
       "      <td>0.027206</td>\n",
       "      <td>0.020550</td>\n",
       "      <td>0.952244</td>\n",
       "    </tr>\n",
       "    <tr>\n",
       "      <th>39</th>\n",
       "      <td>0.027084</td>\n",
       "      <td>0.019251</td>\n",
       "      <td>0.953665</td>\n",
       "    </tr>\n",
       "    <tr>\n",
       "      <th>40</th>\n",
       "      <td>0.026971</td>\n",
       "      <td>0.018033</td>\n",
       "      <td>0.954996</td>\n",
       "    </tr>\n",
       "    <tr>\n",
       "      <th>41</th>\n",
       "      <td>0.026865</td>\n",
       "      <td>0.016892</td>\n",
       "      <td>0.956243</td>\n",
       "    </tr>\n",
       "    <tr>\n",
       "      <th>42</th>\n",
       "      <td>0.026766</td>\n",
       "      <td>0.015823</td>\n",
       "      <td>0.957411</td>\n",
       "    </tr>\n",
       "    <tr>\n",
       "      <th>43</th>\n",
       "      <td>0.026674</td>\n",
       "      <td>0.014821</td>\n",
       "      <td>0.958505</td>\n",
       "    </tr>\n",
       "    <tr>\n",
       "      <th>44</th>\n",
       "      <td>0.026588</td>\n",
       "      <td>0.013882</td>\n",
       "      <td>0.959530</td>\n",
       "    </tr>\n",
       "    <tr>\n",
       "      <th>45</th>\n",
       "      <td>0.026508</td>\n",
       "      <td>0.013002</td>\n",
       "      <td>0.960490</td>\n",
       "    </tr>\n",
       "    <tr>\n",
       "      <th>46</th>\n",
       "      <td>0.026433</td>\n",
       "      <td>0.012178</td>\n",
       "      <td>0.961388</td>\n",
       "    </tr>\n",
       "    <tr>\n",
       "      <th>47</th>\n",
       "      <td>0.026363</td>\n",
       "      <td>0.011406</td>\n",
       "      <td>0.962230</td>\n",
       "    </tr>\n",
       "    <tr>\n",
       "      <th>48</th>\n",
       "      <td>0.026298</td>\n",
       "      <td>0.010683</td>\n",
       "      <td>0.963019</td>\n",
       "    </tr>\n",
       "    <tr>\n",
       "      <th>49</th>\n",
       "      <td>0.026237</td>\n",
       "      <td>0.010006</td>\n",
       "      <td>0.963758</td>\n",
       "    </tr>\n",
       "    <tr>\n",
       "      <th>50</th>\n",
       "      <td>0.026180</td>\n",
       "      <td>0.009371</td>\n",
       "      <td>0.964450</td>\n",
       "    </tr>\n",
       "    <tr>\n",
       "      <th>51</th>\n",
       "      <td>0.026126</td>\n",
       "      <td>0.008776</td>\n",
       "      <td>0.965097</td>\n",
       "    </tr>\n",
       "    <tr>\n",
       "      <th>52</th>\n",
       "      <td>0.026076</td>\n",
       "      <td>0.008220</td>\n",
       "      <td>0.965704</td>\n",
       "    </tr>\n",
       "    <tr>\n",
       "      <th>53</th>\n",
       "      <td>0.026030</td>\n",
       "      <td>0.007698</td>\n",
       "      <td>0.966272</td>\n",
       "    </tr>\n",
       "    <tr>\n",
       "      <th>54</th>\n",
       "      <td>0.025986</td>\n",
       "      <td>0.007209</td>\n",
       "      <td>0.966805</td>\n",
       "    </tr>\n",
       "    <tr>\n",
       "      <th>55</th>\n",
       "      <td>0.025945</td>\n",
       "      <td>0.006752</td>\n",
       "      <td>0.967303</td>\n",
       "    </tr>\n",
       "    <tr>\n",
       "      <th>56</th>\n",
       "      <td>0.025907</td>\n",
       "      <td>0.006323</td>\n",
       "      <td>0.967770</td>\n",
       "    </tr>\n",
       "    <tr>\n",
       "      <th>57</th>\n",
       "      <td>0.025872</td>\n",
       "      <td>0.005921</td>\n",
       "      <td>0.968207</td>\n",
       "    </tr>\n",
       "    <tr>\n",
       "      <th>58</th>\n",
       "      <td>0.025838</td>\n",
       "      <td>0.005545</td>\n",
       "      <td>0.968616</td>\n",
       "    </tr>\n",
       "    <tr>\n",
       "      <th>59</th>\n",
       "      <td>0.025807</td>\n",
       "      <td>0.005193</td>\n",
       "      <td>0.969000</td>\n",
       "    </tr>\n",
       "    <tr>\n",
       "      <th>60</th>\n",
       "      <td>0.025778</td>\n",
       "      <td>0.004863</td>\n",
       "      <td>0.969359</td>\n",
       "    </tr>\n",
       "    <tr>\n",
       "      <th>61</th>\n",
       "      <td>0.025751</td>\n",
       "      <td>0.004554</td>\n",
       "      <td>0.969695</td>\n",
       "    </tr>\n",
       "    <tr>\n",
       "      <th>62</th>\n",
       "      <td>0.025725</td>\n",
       "      <td>0.004265</td>\n",
       "      <td>0.970010</td>\n",
       "    </tr>\n",
       "    <tr>\n",
       "      <th>63</th>\n",
       "      <td>0.025701</td>\n",
       "      <td>0.003994</td>\n",
       "      <td>0.970305</td>\n",
       "    </tr>\n",
       "    <tr>\n",
       "      <th>64</th>\n",
       "      <td>0.025679</td>\n",
       "      <td>0.003740</td>\n",
       "      <td>0.970581</td>\n",
       "    </tr>\n",
       "    <tr>\n",
       "      <th>65</th>\n",
       "      <td>0.025658</td>\n",
       "      <td>0.003503</td>\n",
       "      <td>0.970840</td>\n",
       "    </tr>\n",
       "    <tr>\n",
       "      <th>66</th>\n",
       "      <td>0.025638</td>\n",
       "      <td>0.003280</td>\n",
       "      <td>0.971082</td>\n",
       "    </tr>\n",
       "    <tr>\n",
       "      <th>67</th>\n",
       "      <td>0.025620</td>\n",
       "      <td>0.003072</td>\n",
       "      <td>0.971308</td>\n",
       "    </tr>\n",
       "    <tr>\n",
       "      <th>68</th>\n",
       "      <td>0.025603</td>\n",
       "      <td>0.002876</td>\n",
       "      <td>0.971521</td>\n",
       "    </tr>\n",
       "    <tr>\n",
       "      <th>69</th>\n",
       "      <td>0.025587</td>\n",
       "      <td>0.002694</td>\n",
       "      <td>0.971720</td>\n",
       "    </tr>\n",
       "    <tr>\n",
       "      <th>70</th>\n",
       "      <td>0.025572</td>\n",
       "      <td>0.002522</td>\n",
       "      <td>0.971906</td>\n",
       "    </tr>\n",
       "    <tr>\n",
       "      <th>71</th>\n",
       "      <td>0.025558</td>\n",
       "      <td>0.002362</td>\n",
       "      <td>0.972080</td>\n",
       "    </tr>\n",
       "    <tr>\n",
       "      <th>72</th>\n",
       "      <td>0.025545</td>\n",
       "      <td>0.002212</td>\n",
       "      <td>0.972244</td>\n",
       "    </tr>\n",
       "    <tr>\n",
       "      <th>73</th>\n",
       "      <td>0.025532</td>\n",
       "      <td>0.002071</td>\n",
       "      <td>0.972396</td>\n",
       "    </tr>\n",
       "    <tr>\n",
       "      <th>74</th>\n",
       "      <td>0.025521</td>\n",
       "      <td>0.001940</td>\n",
       "      <td>0.972540</td>\n",
       "    </tr>\n",
       "    <tr>\n",
       "      <th>75</th>\n",
       "      <td>0.025510</td>\n",
       "      <td>0.001816</td>\n",
       "      <td>0.972674</td>\n",
       "    </tr>\n",
       "    <tr>\n",
       "      <th>76</th>\n",
       "      <td>0.025500</td>\n",
       "      <td>0.001701</td>\n",
       "      <td>0.972799</td>\n",
       "    </tr>\n",
       "    <tr>\n",
       "      <th>77</th>\n",
       "      <td>0.025491</td>\n",
       "      <td>0.001593</td>\n",
       "      <td>0.972917</td>\n",
       "    </tr>\n",
       "    <tr>\n",
       "      <th>78</th>\n",
       "      <td>0.025482</td>\n",
       "      <td>0.001491</td>\n",
       "      <td>0.973027</td>\n",
       "    </tr>\n",
       "    <tr>\n",
       "      <th>79</th>\n",
       "      <td>0.025473</td>\n",
       "      <td>0.001397</td>\n",
       "      <td>0.973130</td>\n",
       "    </tr>\n",
       "    <tr>\n",
       "      <th>80</th>\n",
       "      <td>0.025466</td>\n",
       "      <td>0.001308</td>\n",
       "      <td>0.973227</td>\n",
       "    </tr>\n",
       "    <tr>\n",
       "      <th>81</th>\n",
       "      <td>0.025458</td>\n",
       "      <td>0.001225</td>\n",
       "      <td>0.973317</td>\n",
       "    </tr>\n",
       "    <tr>\n",
       "      <th>82</th>\n",
       "      <td>0.025452</td>\n",
       "      <td>0.001147</td>\n",
       "      <td>0.973402</td>\n",
       "    </tr>\n",
       "    <tr>\n",
       "      <th>83</th>\n",
       "      <td>0.025445</td>\n",
       "      <td>0.001074</td>\n",
       "      <td>0.973481</td>\n",
       "    </tr>\n",
       "    <tr>\n",
       "      <th>84</th>\n",
       "      <td>0.025439</td>\n",
       "      <td>0.001006</td>\n",
       "      <td>0.973555</td>\n",
       "    </tr>\n",
       "    <tr>\n",
       "      <th>85</th>\n",
       "      <td>0.025434</td>\n",
       "      <td>0.000942</td>\n",
       "      <td>0.973625</td>\n",
       "    </tr>\n",
       "    <tr>\n",
       "      <th>86</th>\n",
       "      <td>0.025429</td>\n",
       "      <td>0.000882</td>\n",
       "      <td>0.973690</td>\n",
       "    </tr>\n",
       "    <tr>\n",
       "      <th>87</th>\n",
       "      <td>0.025424</td>\n",
       "      <td>0.000826</td>\n",
       "      <td>0.973751</td>\n",
       "    </tr>\n",
       "  </tbody>\n",
       "</table>\n",
       "</div>"
      ],
      "text/plain": [
       "           S         I         R\n",
       "0   0.998110  0.001220  0.000669\n",
       "1   0.997814  0.001422  0.000764\n",
       "2   0.997469  0.001657  0.000873\n",
       "3   0.997067  0.001931  0.001001\n",
       "4   0.996599  0.002250  0.001150\n",
       "5   0.996054  0.002622  0.001324\n",
       "6   0.995420  0.003054  0.001526\n",
       "7   0.994681  0.003557  0.001762\n",
       "8   0.993821  0.004142  0.002036\n",
       "9   0.992821  0.004823  0.002356\n",
       "10  0.991659  0.005613  0.002728\n",
       "11  0.990307  0.006532  0.003161\n",
       "12  0.988737  0.007598  0.003665\n",
       "13  0.986914  0.008835  0.004250\n",
       "14  0.984800  0.010269  0.004932\n",
       "15  0.982348  0.011929  0.005723\n",
       "16  0.979508  0.013850  0.006642\n",
       "17  0.976223  0.016069  0.007709\n",
       "18  0.972426  0.018629  0.008946\n",
       "19  0.968045  0.021576  0.010379\n",
       "20  0.962998  0.024963  0.012038\n",
       "21  0.957196  0.028847  0.013957\n",
       "22  0.950539  0.033289  0.016173\n",
       "23  0.942920  0.038353  0.018727\n",
       "24  0.934226  0.044106  0.021668\n",
       "25  0.924337  0.050617  0.025046\n",
       "26  0.913131  0.057951  0.028919\n",
       "27  0.900484  0.066170  0.033346\n",
       "28  0.886279  0.075327  0.038394\n",
       "29  0.870408  0.085462  0.044130\n",
       "0   0.852778  0.096595  0.050626\n",
       "1   0.827063  0.114776  0.058161\n",
       "2   0.797631  0.135291  0.067079\n",
       "3   0.764429  0.158029  0.077542\n",
       "4   0.727577  0.182722  0.089701\n",
       "5   0.687397  0.208922  0.103681\n",
       "6   0.644423  0.236009  0.119568\n",
       "7   0.599381  0.263220  0.137399\n",
       "8   0.553149  0.289698  0.157153\n",
       "9   0.506682  0.314572  0.178747\n",
       "10  0.460933  0.337033  0.202035\n",
       "11  0.416770  0.356409  0.226821\n",
       "12  0.374916  0.372219  0.252865\n",
       "13  0.335907  0.384190  0.279903\n",
       "14  0.300082  0.392261  0.307657\n",
       "15  0.267600  0.396550  0.335850\n",
       "16  0.238460  0.397318  0.364223\n",
       "17  0.212545  0.394920  0.392535\n",
       "18  0.189657  0.389769  0.420574\n",
       "19  0.169545  0.382294  0.448160\n",
       "20  0.151939  0.372919  0.475142\n",
       "21  0.136563  0.362038  0.501399\n",
       "22  0.123153  0.350012  0.526835\n",
       "23  0.111462  0.337157  0.551381\n",
       "24  0.101267  0.323746  0.574987\n",
       "25  0.092368  0.310009  0.597623\n",
       "26  0.084590  0.296139  0.619271\n",
       "27  0.077779  0.282292  0.639929\n",
       "28  0.071803  0.268595  0.659602\n",
       "29  0.066548  0.255146  0.678305\n",
       "30  0.061916  0.242024  0.696059\n",
       "31  0.057823  0.229287  0.712889\n",
       "1   0.054997  0.216206  0.728796\n",
       "2   0.052460  0.203749  0.743791\n",
       "3   0.050177  0.191905  0.757918\n",
       "4   0.048118  0.180662  0.771220\n",
       "5   0.046257  0.170002  0.783741\n",
       "6   0.044572  0.159908  0.795520\n",
       "7   0.043044  0.150359  0.806598\n",
       "8   0.041654  0.141334  0.817012\n",
       "9   0.040390  0.132810  0.826800\n",
       "10  0.039236  0.124767  0.835996\n",
       "11  0.038183  0.117182  0.844635\n",
       "12  0.037220  0.110033  0.852747\n",
       "13  0.036337  0.103299  0.860364\n",
       "14  0.035528  0.096958  0.867513\n",
       "15  0.034785  0.090991  0.874224\n",
       "16  0.034102  0.085377  0.880521\n",
       "17  0.033473  0.080098  0.886428\n",
       "18  0.032894  0.075135  0.891971\n",
       "19  0.032360  0.070471  0.897169\n",
       "20  0.031866  0.066089  0.902045\n",
       "21  0.031411  0.061972  0.906617\n",
       "22  0.030989  0.058107  0.910904\n",
       "23  0.030600  0.054477  0.914923\n",
       "24  0.030239  0.051070  0.918692\n",
       "25  0.029904  0.047872  0.922224\n",
       "26  0.029594  0.044871  0.925535\n",
       "27  0.029306  0.042056  0.928639\n",
       "28  0.029038  0.039414  0.931547\n",
       "29  0.028790  0.036937  0.934273\n",
       "30  0.028559  0.034613  0.936828\n",
       "31  0.028345  0.032434  0.939221\n",
       "32  0.028145  0.030390  0.941464\n",
       "33  0.027960  0.028475  0.943566\n",
       "34  0.027787  0.026678  0.945535\n",
       "35  0.027626  0.024995  0.947380\n",
       "36  0.027476  0.023416  0.949108\n",
       "37  0.027336  0.021937  0.950727\n",
       "38  0.027206  0.020550  0.952244\n",
       "39  0.027084  0.019251  0.953665\n",
       "40  0.026971  0.018033  0.954996\n",
       "41  0.026865  0.016892  0.956243\n",
       "42  0.026766  0.015823  0.957411\n",
       "43  0.026674  0.014821  0.958505\n",
       "44  0.026588  0.013882  0.959530\n",
       "45  0.026508  0.013002  0.960490\n",
       "46  0.026433  0.012178  0.961388\n",
       "47  0.026363  0.011406  0.962230\n",
       "48  0.026298  0.010683  0.963019\n",
       "49  0.026237  0.010006  0.963758\n",
       "50  0.026180  0.009371  0.964450\n",
       "51  0.026126  0.008776  0.965097\n",
       "52  0.026076  0.008220  0.965704\n",
       "53  0.026030  0.007698  0.966272\n",
       "54  0.025986  0.007209  0.966805\n",
       "55  0.025945  0.006752  0.967303\n",
       "56  0.025907  0.006323  0.967770\n",
       "57  0.025872  0.005921  0.968207\n",
       "58  0.025838  0.005545  0.968616\n",
       "59  0.025807  0.005193  0.969000\n",
       "60  0.025778  0.004863  0.969359\n",
       "61  0.025751  0.004554  0.969695\n",
       "62  0.025725  0.004265  0.970010\n",
       "63  0.025701  0.003994  0.970305\n",
       "64  0.025679  0.003740  0.970581\n",
       "65  0.025658  0.003503  0.970840\n",
       "66  0.025638  0.003280  0.971082\n",
       "67  0.025620  0.003072  0.971308\n",
       "68  0.025603  0.002876  0.971521\n",
       "69  0.025587  0.002694  0.971720\n",
       "70  0.025572  0.002522  0.971906\n",
       "71  0.025558  0.002362  0.972080\n",
       "72  0.025545  0.002212  0.972244\n",
       "73  0.025532  0.002071  0.972396\n",
       "74  0.025521  0.001940  0.972540\n",
       "75  0.025510  0.001816  0.972674\n",
       "76  0.025500  0.001701  0.972799\n",
       "77  0.025491  0.001593  0.972917\n",
       "78  0.025482  0.001491  0.973027\n",
       "79  0.025473  0.001397  0.973130\n",
       "80  0.025466  0.001308  0.973227\n",
       "81  0.025458  0.001225  0.973317\n",
       "82  0.025452  0.001147  0.973402\n",
       "83  0.025445  0.001074  0.973481\n",
       "84  0.025439  0.001006  0.973555\n",
       "85  0.025434  0.000942  0.973625\n",
       "86  0.025429  0.000882  0.973690\n",
       "87  0.025424  0.000826  0.973751"
      ]
     },
     "execution_count": 219,
     "metadata": {},
     "output_type": "execute_result"
    }
   ],
   "source": [
    "df_open_mg_close"
   ]
  },
  {
   "cell_type": "code",
   "execution_count": 220,
   "metadata": {},
   "outputs": [],
   "source": [
    "df_open_mg_close.reset_index(drop=True,inplace=True)"
   ]
  },
  {
   "cell_type": "code",
   "execution_count": 226,
   "metadata": {},
   "outputs": [
    {
     "data": {
      "text/plain": [
       "Text(0.5, 1.0, 'Simple SIr pre- post- and during monthslong mass protests')"
      ]
     },
     "execution_count": 226,
     "metadata": {},
     "output_type": "execute_result"
    },
    {
     "data": {
      "image/png": "[encoded data removed]",
      "text/plain": [
       "<Figure size 432x288 with 1 Axes>"
      ]
     },
     "metadata": {
      "needs_background": "light"
     },
     "output_type": "display_data"
    }
   ],
   "source": [
    "df_open_mg_close.plot()\n",
    "plt.xlabel('Time (Days)')\n",
    "plt.ylabel('Infection curve')\n",
    "# plt.axvline(x=30,color='red',linewidth='0.75')\n",
    "# plt.axvline(x=30+32,color='red',linewidth='0.75')\n",
    "plt.title('Simple SIr pre- post- and during monthslong mass protests')"
   ]
  },
  {
   "cell_type": "code",
   "execution_count": 222,
   "metadata": {},
   "outputs": [
    {
     "data": {
      "text/plain": [
       "46"
      ]
     },
     "execution_count": 222,
     "metadata": {},
     "output_type": "execute_result"
    }
   ],
   "source": [
    "np.argmax(df_open_mg_close.I)"
   ]
  },
  {
   "cell_type": "code",
   "execution_count": 223,
   "metadata": {},
   "outputs": [
    {
     "data": {
      "text/plain": [
       "0.39731752054682834"
      ]
     },
     "execution_count": 223,
     "metadata": {},
     "output_type": "execute_result"
    }
   ],
   "source": [
    "max(df_open_mg_close.I)"
   ]
  },
  {
   "cell_type": "code",
   "execution_count": 224,
   "metadata": {},
   "outputs": [
    {
     "data": {
      "text/plain": [
       "0.9737507350889599"
      ]
     },
     "execution_count": 224,
     "metadata": {},
     "output_type": "execute_result"
    }
   ],
   "source": [
    "df_open_mg_close.R.iloc[-1]"
   ]
  },
  {
   "cell_type": "code",
   "execution_count": 228,
   "metadata": {},
   "outputs": [
    {
     "data": {
      "text/plain": [
       "0.02591949033225438"
      ]
     },
     "execution_count": 228,
     "metadata": {},
     "output_type": "execute_result"
    }
   ],
   "source": [
    "df_open_mg_close.R.iloc[-1] - sir_df_open.R.iloc[-1]"
   ]
  },
  {
   "cell_type": "code",
   "execution_count": 225,
   "metadata": {},
   "outputs": [
    {
     "data": {
      "text/plain": [
       "7516.652196353771"
      ]
     },
     "execution_count": 225,
     "metadata": {},
     "output_type": "execute_result"
    }
   ],
   "source": [
    "(df_open_mg_close.R.iloc[-1] - sir_df_open.R.iloc[-1]) * 29E6 *.01"
   ]
  }
 ],
 "metadata": {
  "kernelspec": {
   "display_name": "Python 3",
   "language": "python",
   "name": "python3"
  },
  "language_info": {
   "codemirror_mode": {
    "name": "ipython",
    "version": 3
   },
   "file_extension": ".py",
   "mimetype": "text/x-python",
   "name": "python",
   "nbconvert_exporter": "python",
   "pygments_lexer": "ipython3",
   "version": "3.7.6"
  }
 },
 "nbformat": 4,
 "nbformat_minor": 4
}
